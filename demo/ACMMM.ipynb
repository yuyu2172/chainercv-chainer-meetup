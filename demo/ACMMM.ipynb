{
 "cells": [
  {
   "cell_type": "code",
   "execution_count": null,
   "metadata": {
    "collapsed": true,
    "nbpresent": {
     "id": "af5ddf0b-97f1-4971-a703-7ab4e2e092e8"
    },
    "slideshow": {
     "slide_type": "slide"
    }
   },
   "outputs": [],
   "source": [
    "%matplotlib inline\n",
    "import matplotlib as mpl\n",
    "mpl.rc(\"savefig\", dpi=100)\n",
    "\n",
    "from chainercv.datasets import VOCBboxDataset\n",
    "from chainercv.datasets import voc_bbox_label_names\n",
    "from chainercv.links import SSD300\n",
    "from chainercv.visualizations import vis_bbox\n",
    "from chainercv.visualizations import vis_image"
   ]
  },
  {
   "cell_type": "code",
   "execution_count": null,
   "metadata": {
    "nbpresent": {
     "id": "7a7d6d1c-dfc7-4cd3-bb4c-5eb5450bdfdf"
    },
    "slideshow": {
     "slide_type": "slide"
    }
   },
   "outputs": [],
   "source": [
    "# Load image from a dataset loader and visualize\n",
    "dataset = VOCBboxDataset(split='test', year='2007')\n",
    "# Take 400-th example in the dataset\n",
    "img, _, _ = dataset[400]\n",
    "# Visualize\n",
    "vis_image(img)"
   ]
  },
  {
   "cell_type": "code",
   "execution_count": null,
   "metadata": {
    "nbpresent": {
     "id": "48b8422d-25fa-4694-9a1f-a6e8dc6ddc7f"
    },
    "slideshow": {
     "slide_type": "slide"
    }
   },
   "outputs": [],
   "source": [
    "# Instantiate an object detection model\n",
    "model = SSD300(pretrained_model='voc0712')\n",
    "# Run prediction\n",
    "bboxes, labels, scores = model.predict([img])\n",
    "print('done prediction')"
   ]
  },
  {
   "cell_type": "code",
   "execution_count": null,
   "metadata": {
    "nbpresent": {
     "id": "0057280c-65eb-4437-8434-8862932c60ab"
    },
    "slideshow": {
     "slide_type": "fragment"
    }
   },
   "outputs": [],
   "source": [
    "vis_bbox(img, bboxes[0], labels[0], scores[0],\n",
    "         label_names=voc_bbox_label_names)"
   ]
  },
  {
   "cell_type": "code",
   "execution_count": null,
   "metadata": {
    "collapsed": true
   },
   "outputs": [],
   "source": []
  }
 ],
 "metadata": {
  "anaconda-cloud": {},
  "celltoolbar": "Slideshow",
  "kernelspec": {
   "display_name": "Python [conda env:general]",
   "language": "python",
   "name": "conda-env-general-py"
  },
  "language_info": {
   "codemirror_mode": {
    "name": "ipython",
    "version": 2
   },
   "file_extension": ".py",
   "mimetype": "text/x-python",
   "name": "python",
   "nbconvert_exporter": "python",
   "pygments_lexer": "ipython2",
   "version": "2.7.12"
  },
  "nbpresent": {
   "slides": {
    "10182c6f-ed40-475c-bf9f-a9fc74dd066a": {
     "id": "10182c6f-ed40-475c-bf9f-a9fc74dd066a",
     "prev": "d51bbdd4-d797-4c81-a38a-3faea7c87bb4",
     "regions": {
      "eab9ce04-83bc-4291-81b4-3681b6e8ff27": {
       "attrs": {
        "height": 0.8,
        "width": 0.8,
        "x": 0.1,
        "y": 0.1
       },
       "content": {
        "cell": "48b8422d-25fa-4694-9a1f-a6e8dc6ddc7f",
        "part": "whole"
       },
       "id": "eab9ce04-83bc-4291-81b4-3681b6e8ff27"
      },
      "f854f319-11e3-4054-be2e-84a08e9483cf": {
       "attrs": {
        "height": 0.4,
        "width": 0.8,
        "x": 0.1,
        "y": 0.5
       },
       "content": {
        "cell": "0057280c-65eb-4437-8434-8862932c60ab",
        "part": "whole"
       },
       "id": "f854f319-11e3-4054-be2e-84a08e9483cf"
      }
     }
    },
    "689ba224-6bfe-4ce8-aa28-d0c73100075e": {
     "id": "689ba224-6bfe-4ce8-aa28-d0c73100075e",
     "prev": null,
     "regions": {
      "df2231de-7be7-4625-b209-5fda2f3b8ccf": {
       "attrs": {
        "height": 0.8,
        "width": 0.8,
        "x": 0.1,
        "y": 0.1
       },
       "content": {
        "cell": "af5ddf0b-97f1-4971-a703-7ab4e2e092e8",
        "part": "whole"
       },
       "id": "df2231de-7be7-4625-b209-5fda2f3b8ccf"
      }
     }
    },
    "d51bbdd4-d797-4c81-a38a-3faea7c87bb4": {
     "id": "d51bbdd4-d797-4c81-a38a-3faea7c87bb4",
     "prev": "689ba224-6bfe-4ce8-aa28-d0c73100075e",
     "regions": {
      "87fe97ab-4f9d-4fbc-ab19-cc03a399e8c1": {
       "attrs": {
        "height": 0.8,
        "width": 0.8,
        "x": 0.1,
        "y": 0.1
       },
       "content": {
        "cell": "7a7d6d1c-dfc7-4cd3-bb4c-5eb5450bdfdf",
        "part": "whole"
       },
       "id": "87fe97ab-4f9d-4fbc-ab19-cc03a399e8c1"
      }
     }
    }
   },
   "themes": {}
  }
 },
 "nbformat": 4,
 "nbformat_minor": 2
}
